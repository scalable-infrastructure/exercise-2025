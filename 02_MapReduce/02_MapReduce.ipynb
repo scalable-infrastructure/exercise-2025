{
 "cells": [
  {
   "attachments": {},
   "cell_type": "markdown",
   "metadata": {
    "id": "INRjFWSENNKO"
   },
   "source": [
    "# 3. MapReduce\n",
    "\n",
    "For this exercise we are going to use MapReduce in local mode, i.e. we won't be running anything on the cluster!\n",
    " \n",
    "## 3.1. Use the commands `head`, `cat`, `uniq`, `wc`, `sort`, `find`, `xargs`, `awk` to evaluate the NASA log file:\n",
    "\n",
    "* Data File:  <https://raw.githubusercontent.com/scalable-infrastructure/exercise-2025/master/data/nasa/NASA_access_log_Jul95.gz>\n",
    "* Which page was called the most?\n",
    "* What was the most frequent return code?\n",
    "* How many errors occurred? What is the percentage of errors?\n"
   ]
  },
  {
   "cell_type": "code",
   "execution_count": 1,
   "metadata": {
    "executionInfo": {
     "elapsed": 580,
     "status": "ok",
     "timestamp": 1615716933129,
     "user": {
      "displayName": "Andre Luckow",
      "photoUrl": "https://lh3.googleusercontent.com/a-/AOh14GgX3nHdZvRUbdHrLYLXgFiGSepV9F6Hd9-YYk29L-Y=s64",
      "userId": "13897213013486729084"
     },
     "user_tz": -60
    },
    "id": "qqUO4ornNNKT"
   },
   "outputs": [],
   "source": [
    "import os, sys"
   ]
  },
  {
   "cell_type": "code",
   "execution_count": 4,
   "metadata": {
    "colab": {
     "base_uri": "https://localhost:8080/"
    },
    "executionInfo": {
     "elapsed": 3016,
     "status": "ok",
     "timestamp": 1615716935570,
     "user": {
      "displayName": "Andre Luckow",
      "photoUrl": "https://lh3.googleusercontent.com/a-/AOh14GgX3nHdZvRUbdHrLYLXgFiGSepV9F6Hd9-YYk29L-Y=s64",
      "userId": "13897213013486729084"
     },
     "user_tz": -60
    },
    "id": "m8IXLvLgO5ma",
    "outputId": "251332c9-6c54-4b7f-b43c-19fee13dd1bf"
   },
   "outputs": [
    {
     "name": "stdout",
     "output_type": "stream",
     "text": [
      "--2025-03-08 09:22:54--  https://raw.githubusercontent.com/scalable-infrastructure/exercise-2025/master/data/nasa/NASA_access_log_Jul95.gz\n",
      "Resolving raw.githubusercontent.com (raw.githubusercontent.com)... 2606:50c0:8001::154, 2606:50c0:8000::154, 2606:50c0:8003::154, ...\n",
      "Connecting to raw.githubusercontent.com (raw.githubusercontent.com)|2606:50c0:8001::154|:443... connected.\n",
      "HTTP request sent, awaiting response... 200 OK\n",
      "Length: 20676677 (20M) [application/octet-stream]\n",
      "Saving to: ‘NASA_access_log_Jul95.gz’\n",
      "\n",
      "NASA_access_log_Jul 100%[===================>]  19.72M  17.4MB/s    in 1.1s    \n",
      "\n",
      "2025-03-08 09:22:57 (17.4 MB/s) - ‘NASA_access_log_Jul95.gz’ saved [20676677/20676677]\n",
      "\n"
     ]
    }
   ],
   "source": [
    "!wget https://raw.githubusercontent.com/scalable-infrastructure/exercise-2025/master/data/nasa/NASA_access_log_Jul95.gz\n",
    "!gzip -d NASA_access_log_Jul95.gz"
   ]
  },
  {
   "cell_type": "code",
   "execution_count": null,
   "metadata": {
    "id": "4ZqF9tYCNNKU",
    "outputId": "1e9265d7-0fe4-4ca1-86a8-df6137f5612d"
   },
   "outputs": [],
   "source": [
    "!head NASA_access_log_Jul95"
   ]
  },
  {
   "cell_type": "code",
   "execution_count": 3,
   "metadata": {
    "id": "lzpZ_gfqO5FM"
   },
   "outputs": [
    {
     "name": "stdout",
     "output_type": "stream",
     "text": [
      "{\n",
      " \"cells\": [\n",
      "  {\n",
      "   \"attachments\": {},\n",
      "   \"cell_type\": \"markdown\",\n",
      "   \"metadata\": {\n",
      "    \"id\": \"INRjFWSENNKO\"\n",
      "   },\n",
      "   \"source\": [\n",
      "    \"# 3. MapReduce\\n\",\n",
      "    \"\\n\",\n",
      "    \"For this exercise we are going to use MapReduce in local mode, i.e. we won't be running anything on the cluster!\\n\",\n",
      "    \" \\n\",\n",
      "    \"## 3.1. Use the commands `head`, `cat`, `uniq`, `wc`, `sort`, `find`, `xargs`, `awk` to evaluate the NASA log file:\\n\",\n",
      "    \"\\n\",\n",
      "    \"* Data File:  <https://raw.githubusercontent.com/scalable-infrastructure/exercise-2025/master/data/nasa/NASA_access_log_Jul95.gz>\\n\",\n",
      "    \"* Which page was called the most?\\n\",\n",
      "    \"* What was the most frequent return code?\\n\",\n",
      "    \"* How many errors occurred? What is the percentage of errors?\\n\"\n",
      "   ]\n",
      "  },\n",
      "  {\n",
      "   \"cell_type\": \"code\",\n",
      "   \"execution_count\": null,\n",
      "   \"metadata\": {\n",
      "    \"executionInfo\": {\n",
      "     \"elapsed\": 580,\n",
      "     \"status\": \"ok\",\n",
      "     \"timestamp\": 1615716933129,\n",
      "     \"user\": {\n",
      "      \"displayName\": \"Andre Luckow\",\n",
      "      \"photoUrl\": \"https://lh3.googleusercontent.com/a-/AOh14GgX3nHdZvRUbdHrLYLXgFiGSepV9F6Hd9-YYk29L-Y=s64\",\n",
      "      \"userId\": \"13897213013486729084\"\n",
      "     },\n",
      "     \"user_tz\": -60\n",
      "    },\n",
      "    \"id\": \"qqUO4ornNNKT\"\n",
      "   },\n",
      "   \"outputs\": [],\n",
      "   \"source\": [\n",
      "    \"import os, sys\"\n",
      "   ]\n",
      "  },\n",
      "  {\n",
      "   \"cell_type\": \"code\",\n",
      "   \"execution_count\": null,\n",
      "   \"metadata\": {\n",
      "    \"colab\": {\n",
      "     \"base_uri\": \"https://localhost:8080/\"\n",
      "    },\n",
      "    \"executionInfo\": {\n",
      "     \"elapsed\": 3016,\n",
      "     \"status\": \"ok\",\n",
      "     \"timestamp\": 1615716935570,\n",
      "     \"user\": {\n",
      "      \"displayName\": \"Andre Luckow\",\n",
      "      \"photoUrl\": \"https://lh3.googleusercontent.com/a-/AOh14GgX3nHdZvRUbdHrLYLXgFiGSepV9F6Hd9-YYk29L-Y=s64\",\n",
      "      \"userId\": \"13897213013486729084\"\n",
      "     },\n",
      "     \"user_tz\": -60\n",
      "    },\n",
      "    \"id\": \"m8IXLvLgO5ma\",\n",
      "    \"outputId\": \"251332c9-6c54-4b7f-b43c-19fee13dd1bf\"\n",
      "   },\n",
      "   \"outputs\": [],\n",
      "   \"source\": [\n",
      "    \"!wget https://raw.githubusercontent.com/scalable-infrastructure/exercise-2025/master/data/nasa/NASA_access_log_Jul95.gz\\n\",\n",
      "    \"!gzip -d NASA_access_log_Jul95.gz\"\n",
      "   ]\n",
      "  },\n",
      "  {\n",
      "   \"cell_type\": \"code\",\n",
      "   \"execution_count\": null,\n",
      "   \"metadata\": {\n",
      "    \"id\": \"4ZqF9tYCNNKU\",\n",
      "    \"outputId\": \"1e9265d7-0fe4-4ca1-86a8-df6137f5612d\"\n",
      "   },\n",
      "   \"outputs\": [],\n",
      "   \"source\": [\n",
      "    \"!head NASA_access_log_Jul95\"\n",
      "   ]\n",
      "  },\n",
      "  {\n",
      "   \"cell_type\": \"code\",\n",
      "   \"execution_count\": null,\n",
      "   \"metadata\": {\n",
      "    \"id\": \"lzpZ_gfqO5FM\"\n",
      "   },\n",
      "   \"outputs\": [],\n",
      "   \"source\": []\n",
      "  }\n",
      " ],\n",
      " \"metadata\": {\n",
      "  \"colab\": {\n",
      "   \"collapsed_sections\": [],\n",
      "   \"name\": \"03_MapReduce.ipynb\",\n",
      "   \"provenance\": []\n",
      "  },\n",
      "  \"kernelspec\": {\n",
      "   \"display_name\": \"Python 3\",\n",
      "   \"language\": \"python\",\n",
      "   \"name\": \"python3\"\n",
      "  },\n",
      "  \"language_info\": {\n",
      "   \"codemirror_mode\": {\n",
      "    \"name\": \"ipython\",\n",
      "    \"version\": 3\n",
      "   },\n",
      "   \"file_extension\": \".py\",\n",
      "   \"mimetype\": \"text/x-python\",\n",
      "   \"name\": \"python\",\n",
      "   \"nbconvert_exporter\": \"python\",\n",
      "   \"pygments_lexer\": \"ipython3\",\n",
      "   \"version\": \"3.8.undefined\"\n",
      "  }\n",
      " },\n",
      " \"nbformat\": 4,\n",
      " \"nbformat_minor\": 0\n",
      "}\n"
     ]
    }
   ],
   "source": [
    "!cat 02_MapReduce.ipynb"
   ]
  },
  {
   "cell_type": "code",
   "execution_count": null,
   "metadata": {},
   "outputs": [],
   "source": []
  }
 ],
 "metadata": {
  "colab": {
   "collapsed_sections": [],
   "name": "03_MapReduce.ipynb",
   "provenance": []
  },
  "kernelspec": {
   "display_name": "data",
   "language": "python",
   "name": "python3"
  },
  "language_info": {
   "codemirror_mode": {
    "name": "ipython",
    "version": 3
   },
   "file_extension": ".py",
   "mimetype": "text/x-python",
   "name": "python",
   "nbconvert_exporter": "python",
   "pygments_lexer": "ipython3",
   "version": "undefined.undefined.undefined"
  }
 },
 "nbformat": 4,
 "nbformat_minor": 0
}
